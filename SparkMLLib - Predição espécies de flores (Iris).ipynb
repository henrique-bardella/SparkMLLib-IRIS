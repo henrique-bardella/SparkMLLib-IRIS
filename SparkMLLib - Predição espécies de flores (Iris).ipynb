{
 "cells": [
  {
   "cell_type": "markdown",
   "metadata": {},
   "source": [
    "## Spark-MLlib - Classificação - Decision Tree"
   ]
  },
  {
   "cell_type": "markdown",
   "metadata": {},
   "source": [
    "### Problema de Negócio\n",
    "- Objetivo: Prever o tipo da espécie da planta (Setosa, Versicolour, Virginica) a partir dos comprimentos e alturas da petala e da sepala.\n",
    "    - Species será a variável target e as demais variáveis serão as features (variáveis preditoras).\n",
    "\n",
    "### Dataset\n",
    " - Nome: Iris Data Set\n",
    " - Fonte: http://archive.ics.uci.edu/ml/datasets/Iris\n",
    " - Descrição: Os dados se referem ao consumo de combustível in galões por milha.\n",
    " - Atributos:\n",
    "    - 1. sepal length in cm\n",
    "    - 2. sepal width in cm\n",
    "    - 3. petal length in cm\n",
    "    - 4. petal width in cm\n",
    "    - 5. Species:\n",
    "        -- Iris Setosa\n",
    "        -- Iris Versicolour\n",
    "        -- Iris Virginica\n",
    "\n",
    "### Tecnologias utilizadas\n",
    "- Modelo Preditivo: Decision Tree\n",
    "- JDK 1.8\n",
    "- Apache Spark 2.4.2"
   ]
  },
  {
   "cell_type": "markdown",
   "metadata": {},
   "source": [
    "### SparkSession e importação do dataset"
   ]
  },
  {
   "cell_type": "code",
   "execution_count": 2,
   "metadata": {},
   "outputs": [],
   "source": [
    "from pyspark.sql import Row\n",
    "from pyspark.ml.linalg import Vectors\n",
    "from pyspark.ml.feature import StringIndexer\n",
    "from pyspark.ml.classification import DecisionTreeClassifier\n",
    "from pyspark.ml.evaluation import MulticlassClassificationEvaluator"
   ]
  },
  {
   "cell_type": "code",
   "execution_count": 3,
   "metadata": {},
   "outputs": [],
   "source": [
    "# Spark Session\n",
    "spSession = SparkSession.builder.master(\"local\").appName(\"SparkMLLib\").getOrCreate()"
   ]
  },
  {
   "cell_type": "code",
   "execution_count": 4,
   "metadata": {},
   "outputs": [],
   "source": [
    "# Carregando os dados e gerando um RDD\n",
    "irisRDD = sc.textFile('data/iris.csv')"
   ]
  },
  {
   "cell_type": "code",
   "execution_count": 5,
   "metadata": {},
   "outputs": [
    {
     "data": {
      "text/plain": [
       "data/iris.csv MapPartitionsRDD[1] at textFile at NativeMethodAccessorImpl.java:0"
      ]
     },
     "execution_count": 5,
     "metadata": {},
     "output_type": "execute_result"
    }
   ],
   "source": [
    "# Colocando o RDD em cache - otimização de performance\n",
    "irisRDD.cache()"
   ]
  },
  {
   "cell_type": "code",
   "execution_count": 6,
   "metadata": {},
   "outputs": [
    {
     "data": {
      "text/plain": [
       "151"
      ]
     },
     "execution_count": 6,
     "metadata": {},
     "output_type": "execute_result"
    }
   ],
   "source": [
    "irisRDD.count()"
   ]
  },
  {
   "cell_type": "code",
   "execution_count": 7,
   "metadata": {},
   "outputs": [
    {
     "data": {
      "text/plain": [
       "['Sepal.Length,Sepal.Width,Petal.Length,Petal.Width,Species',\n",
       " '5.1,3.5,1.4,0.2,setosa',\n",
       " '4.9,3,1.4,0.2,setosa',\n",
       " '4.7,3.2,1.3,0.2,setosa',\n",
       " '4.6,3.1,1.5,0.2,setosa']"
      ]
     },
     "execution_count": 7,
     "metadata": {},
     "output_type": "execute_result"
    }
   ],
   "source": [
    "irisRDD.take(5)"
   ]
  },
  {
   "cell_type": "code",
   "execution_count": 9,
   "metadata": {},
   "outputs": [
    {
     "data": {
      "text/plain": [
       "150"
      ]
     },
     "execution_count": 9,
     "metadata": {},
     "output_type": "execute_result"
    }
   ],
   "source": [
    "# Remmovendo o cabeçalho\n",
    "irisRDD2= irisRDD.filter(lambda x: 'Sepal' not in x)\n",
    "irisRDD2.count()"
   ]
  },
  {
   "cell_type": "markdown",
   "metadata": {},
   "source": [
    "### Limpeza dos dados"
   ]
  },
  {
   "cell_type": "code",
   "execution_count": 11,
   "metadata": {},
   "outputs": [],
   "source": [
    "# Separando as colunas\n",
    "irisRDD3 = irisRDD2.map(lambda l: l.split(\",\"))"
   ]
  },
  {
   "cell_type": "code",
   "execution_count": 12,
   "metadata": {},
   "outputs": [],
   "source": [
    "# Mapeando as colunas\n",
    "irisRDD4 = irisRDD3.map(lambda p: Row(SEPAL_LENGTH = float(p[0]), SEPAL_WIDTH = float(p[1]), \n",
    "                                      PETAL_LENGTH = float(p[2]), PETAL_WIDTH = float(p[3]), \n",
    "                                      SPECIES = p[4] ))"
   ]
  },
  {
   "cell_type": "code",
   "execution_count": 13,
   "metadata": {},
   "outputs": [
    {
     "data": {
      "text/plain": [
       "DataFrame[PETAL_LENGTH: double, PETAL_WIDTH: double, SEPAL_LENGTH: double, SEPAL_WIDTH: double, SPECIES: string]"
      ]
     },
     "execution_count": 13,
     "metadata": {},
     "output_type": "execute_result"
    }
   ],
   "source": [
    "# Criando um Dataframe\n",
    "irisDF = spSession.createDataFrame(irisRDD4)\n",
    "irisDF.cache()"
   ]
  },
  {
   "cell_type": "code",
   "execution_count": 14,
   "metadata": {},
   "outputs": [
    {
     "data": {
      "text/plain": [
       "[Row(PETAL_LENGTH=1.4, PETAL_WIDTH=0.2, SEPAL_LENGTH=5.1, SEPAL_WIDTH=3.5, SPECIES='setosa'),\n",
       " Row(PETAL_LENGTH=1.4, PETAL_WIDTH=0.2, SEPAL_LENGTH=4.9, SEPAL_WIDTH=3.0, SPECIES='setosa'),\n",
       " Row(PETAL_LENGTH=1.3, PETAL_WIDTH=0.2, SEPAL_LENGTH=4.7, SEPAL_WIDTH=3.2, SPECIES='setosa'),\n",
       " Row(PETAL_LENGTH=1.5, PETAL_WIDTH=0.2, SEPAL_LENGTH=4.6, SEPAL_WIDTH=3.1, SPECIES='setosa'),\n",
       " Row(PETAL_LENGTH=1.4, PETAL_WIDTH=0.2, SEPAL_LENGTH=5.0, SEPAL_WIDTH=3.6, SPECIES='setosa')]"
      ]
     },
     "execution_count": 14,
     "metadata": {},
     "output_type": "execute_result"
    }
   ],
   "source": [
    "irisDF.take(5)"
   ]
  },
  {
   "cell_type": "code",
   "execution_count": 15,
   "metadata": {},
   "outputs": [],
   "source": [
    "# Criando um índice numérico para a coluna de label target\n",
    "stringIndexer = StringIndexer(inputCol = \"SPECIES\", outputCol = \"IDX_SPECIES\")\n",
    "si_model = stringIndexer.fit(irisDF)\n",
    "irisNormDF = si_model.transform(irisDF)"
   ]
  },
  {
   "cell_type": "code",
   "execution_count": 16,
   "metadata": {},
   "outputs": [
    {
     "data": {
      "text/plain": [
       "[Row(SPECIES='versicolor', IDX_SPECIES=0.0),\n",
       " Row(SPECIES='setosa', IDX_SPECIES=2.0),\n",
       " Row(SPECIES='virginica', IDX_SPECIES=1.0)]"
      ]
     },
     "execution_count": 16,
     "metadata": {},
     "output_type": "execute_result"
    }
   ],
   "source": [
    "irisNormDF.select(\"SPECIES\",\"IDX_SPECIES\").distinct().collect()"
   ]
  },
  {
   "cell_type": "markdown",
   "metadata": {},
   "source": [
    "### Análise exploratória dos dados"
   ]
  },
  {
   "cell_type": "code",
   "execution_count": 17,
   "metadata": {},
   "outputs": [
    {
     "name": "stdout",
     "output_type": "stream",
     "text": [
      "+-------+------------------+------------------+------------------+------------------+---------+------------------+\n",
      "|summary|      PETAL_LENGTH|       PETAL_WIDTH|      SEPAL_LENGTH|       SEPAL_WIDTH|  SPECIES|       IDX_SPECIES|\n",
      "+-------+------------------+------------------+------------------+------------------+---------+------------------+\n",
      "|  count|               150|               150|               150|               150|      150|               150|\n",
      "|   mean| 3.758000000000001|1.1993333333333331| 5.843333333333332|3.0573333333333337|     null|               1.0|\n",
      "| stddev|1.7652982332594662|0.7622376689603467|0.8280661279778634|0.4358662849366978|     null|0.8192319205190404|\n",
      "|    min|               1.0|               0.1|               4.3|               2.0|   setosa|               0.0|\n",
      "|    max|               6.9|               2.5|               7.9|               4.4|virginica|               2.0|\n",
      "+-------+------------------+------------------+------------------+------------------+---------+------------------+\n",
      "\n"
     ]
    }
   ],
   "source": [
    "# Estatística descritiva\n",
    "irisNormDF.describe().show()"
   ]
  },
  {
   "cell_type": "code",
   "execution_count": 19,
   "metadata": {},
   "outputs": [
    {
     "name": "stdout",
     "output_type": "stream",
     "text": [
      "Correlação da variável IDX_SPECIES com PETAL_LENGTH -0.649241830764174\n",
      "Correlação da variável IDX_SPECIES com PETAL_WIDTH -0.5803770334306263\n",
      "Correlação da variável IDX_SPECIES com SEPAL_LENGTH -0.46003915650023686\n",
      "Correlação da variável IDX_SPECIES com SEPAL_WIDTH 0.6183715308237433\n",
      "Correlação da variável IDX_SPECIES com IDX_SPECIES 1.0\n"
     ]
    }
   ],
   "source": [
    "# Encontrando a correlação entre a variável target com as variáveis preditoras\n",
    "for i in irisNormDF.columns:\n",
    "    if not(isinstance(irisNormDF.select(i).take(1)[0][0], str)) :\n",
    "        print(\"Correlação da variável IDX_SPECIES com\", i, irisNormDF.stat.corr('IDX_SPECIES', i))"
   ]
  },
  {
   "cell_type": "markdown",
   "metadata": {},
   "source": [
    "### Pré-processamento dos dados"
   ]
  },
  {
   "cell_type": "code",
   "execution_count": 21,
   "metadata": {},
   "outputs": [],
   "source": [
    "# Criando um LabeledPoint (target, Vector[features])\n",
    "# Remove colunas não relevantes para o modelo ou com baixa correlação\n",
    "def transformaVar(row) :\n",
    "    obj = (row[\"SPECIES\"], row[\"IDX_SPECIES\"], Vectors.dense([row[\"SEPAL_LENGTH\"], row[\"SEPAL_WIDTH\"], \n",
    "                                                              row[\"PETAL_LENGTH\"], row[\"PETAL_WIDTH\"]]))\n",
    "    return obj"
   ]
  },
  {
   "cell_type": "code",
   "execution_count": 25,
   "metadata": {},
   "outputs": [],
   "source": [
    "# Convertendo para RDD\n",
    "irisRDD5 = irisNormDF.rdd.map(transformaVar)"
   ]
  },
  {
   "cell_type": "code",
   "execution_count": 26,
   "metadata": {},
   "outputs": [
    {
     "data": {
      "text/plain": [
       "pyspark.rdd.PipelinedRDD"
      ]
     },
     "execution_count": 26,
     "metadata": {},
     "output_type": "execute_result"
    }
   ],
   "source": [
    "type(irisRDD5)"
   ]
  },
  {
   "cell_type": "code",
   "execution_count": 23,
   "metadata": {},
   "outputs": [
    {
     "data": {
      "text/plain": [
       "[('setosa', 2.0, DenseVector([5.1, 3.5, 1.4, 0.2])),\n",
       " ('setosa', 2.0, DenseVector([4.9, 3.0, 1.4, 0.2])),\n",
       " ('setosa', 2.0, DenseVector([4.7, 3.2, 1.3, 0.2])),\n",
       " ('setosa', 2.0, DenseVector([4.6, 3.1, 1.5, 0.2])),\n",
       " ('setosa', 2.0, DenseVector([5.0, 3.6, 1.4, 0.2]))]"
      ]
     },
     "execution_count": 23,
     "metadata": {},
     "output_type": "execute_result"
    }
   ],
   "source": [
    "irisRDD5.take(5)"
   ]
  },
  {
   "cell_type": "code",
   "execution_count": 24,
   "metadata": {},
   "outputs": [
    {
     "name": "stdout",
     "output_type": "stream",
     "text": [
      "+-------+-----+-----------------+\n",
      "|species|label|         features|\n",
      "+-------+-----+-----------------+\n",
      "| setosa|  2.0|[5.1,3.5,1.4,0.2]|\n",
      "| setosa|  2.0|[4.9,3.0,1.4,0.2]|\n",
      "| setosa|  2.0|[4.7,3.2,1.3,0.2]|\n",
      "| setosa|  2.0|[4.6,3.1,1.5,0.2]|\n",
      "| setosa|  2.0|[5.0,3.6,1.4,0.2]|\n",
      "| setosa|  2.0|[5.4,3.9,1.7,0.4]|\n",
      "| setosa|  2.0|[4.6,3.4,1.4,0.3]|\n",
      "| setosa|  2.0|[5.0,3.4,1.5,0.2]|\n",
      "| setosa|  2.0|[4.4,2.9,1.4,0.2]|\n",
      "| setosa|  2.0|[4.9,3.1,1.5,0.1]|\n",
      "+-------+-----+-----------------+\n",
      "only showing top 10 rows\n",
      "\n"
     ]
    },
    {
     "data": {
      "text/plain": [
       "DataFrame[species: string, label: double, features: vector]"
      ]
     },
     "execution_count": 24,
     "metadata": {},
     "output_type": "execute_result"
    }
   ],
   "source": [
    "irisDF = spSession.createDataFrame(irisRDD5,[\"species\", \"label\", \"features\"])\n",
    "irisDF.select(\"species\",\"label\",\"features\").show(10)\n",
    "irisDF.cache()"
   ]
  },
  {
   "cell_type": "markdown",
   "metadata": {},
   "source": [
    "### Machine Learning"
   ]
  },
  {
   "cell_type": "code",
   "execution_count": 27,
   "metadata": {},
   "outputs": [],
   "source": [
    "# Split do dataset\n",
    "(dados_treino, dados_teste) = irisDF.randomSplit([0.7, 0.3])"
   ]
  },
  {
   "cell_type": "code",
   "execution_count": 28,
   "metadata": {},
   "outputs": [
    {
     "data": {
      "text/plain": [
       "109"
      ]
     },
     "execution_count": 28,
     "metadata": {},
     "output_type": "execute_result"
    }
   ],
   "source": [
    "dados_treino.count()"
   ]
  },
  {
   "cell_type": "code",
   "execution_count": 30,
   "metadata": {},
   "outputs": [
    {
     "data": {
      "text/plain": [
       "41"
      ]
     },
     "execution_count": 30,
     "metadata": {},
     "output_type": "execute_result"
    }
   ],
   "source": [
    "dados_teste.count()"
   ]
  },
  {
   "cell_type": "code",
   "execution_count": 32,
   "metadata": {},
   "outputs": [],
   "source": [
    "# Construindo o modelo com os dados de treino\n",
    "dtClassifier = DecisionTreeClassifier(maxDepth = 2, labelCol = \"label\", featuresCol = \"features\")\n",
    "modelo = dtClassifier.fit(dados_treino)"
   ]
  },
  {
   "cell_type": "code",
   "execution_count": 33,
   "metadata": {},
   "outputs": [
    {
     "data": {
      "text/plain": [
       "2"
      ]
     },
     "execution_count": 33,
     "metadata": {},
     "output_type": "execute_result"
    }
   ],
   "source": [
    "modelo.numNodes\n",
    "modelo.depth"
   ]
  },
  {
   "cell_type": "code",
   "execution_count": 34,
   "metadata": {},
   "outputs": [
    {
     "data": {
      "text/plain": [
       "[Row(prediction=2.0, species='setosa', label=2.0),\n",
       " Row(prediction=2.0, species='setosa', label=2.0),\n",
       " Row(prediction=2.0, species='setosa', label=2.0),\n",
       " Row(prediction=2.0, species='setosa', label=2.0),\n",
       " Row(prediction=2.0, species='setosa', label=2.0),\n",
       " Row(prediction=2.0, species='setosa', label=2.0),\n",
       " Row(prediction=2.0, species='setosa', label=2.0),\n",
       " Row(prediction=2.0, species='setosa', label=2.0),\n",
       " Row(prediction=2.0, species='setosa', label=2.0),\n",
       " Row(prediction=2.0, species='setosa', label=2.0),\n",
       " Row(prediction=0.0, species='versicolor', label=0.0),\n",
       " Row(prediction=0.0, species='versicolor', label=0.0),\n",
       " Row(prediction=0.0, species='versicolor', label=0.0),\n",
       " Row(prediction=0.0, species='versicolor', label=0.0),\n",
       " Row(prediction=1.0, species='versicolor', label=0.0),\n",
       " Row(prediction=0.0, species='versicolor', label=0.0),\n",
       " Row(prediction=0.0, species='versicolor', label=0.0),\n",
       " Row(prediction=0.0, species='versicolor', label=0.0),\n",
       " Row(prediction=1.0, species='versicolor', label=0.0),\n",
       " Row(prediction=0.0, species='versicolor', label=0.0),\n",
       " Row(prediction=0.0, species='versicolor', label=0.0),\n",
       " Row(prediction=0.0, species='versicolor', label=0.0),\n",
       " Row(prediction=0.0, species='versicolor', label=0.0),\n",
       " Row(prediction=0.0, species='versicolor', label=0.0),\n",
       " Row(prediction=1.0, species='versicolor', label=0.0),\n",
       " Row(prediction=1.0, species='virginica', label=1.0),\n",
       " Row(prediction=1.0, species='virginica', label=1.0),\n",
       " Row(prediction=0.0, species='virginica', label=1.0),\n",
       " Row(prediction=1.0, species='virginica', label=1.0),\n",
       " Row(prediction=1.0, species='virginica', label=1.0),\n",
       " Row(prediction=1.0, species='virginica', label=1.0),\n",
       " Row(prediction=1.0, species='virginica', label=1.0),\n",
       " Row(prediction=1.0, species='virginica', label=1.0),\n",
       " Row(prediction=1.0, species='virginica', label=1.0),\n",
       " Row(prediction=1.0, species='virginica', label=1.0),\n",
       " Row(prediction=1.0, species='virginica', label=1.0),\n",
       " Row(prediction=1.0, species='virginica', label=1.0),\n",
       " Row(prediction=1.0, species='virginica', label=1.0),\n",
       " Row(prediction=1.0, species='virginica', label=1.0),\n",
       " Row(prediction=1.0, species='virginica', label=1.0),\n",
       " Row(prediction=1.0, species='virginica', label=1.0)]"
      ]
     },
     "execution_count": 34,
     "metadata": {},
     "output_type": "execute_result"
    }
   ],
   "source": [
    "# Previsões com dados de teste\n",
    "previsoes = modelo.transform(dados_teste)\n",
    "previsoes.select(\"prediction\",\"species\",\"label\").collect()"
   ]
  },
  {
   "cell_type": "code",
   "execution_count": 35,
   "metadata": {},
   "outputs": [
    {
     "data": {
      "text/plain": [
       "0.9024390243902439"
      ]
     },
     "execution_count": 35,
     "metadata": {},
     "output_type": "execute_result"
    }
   ],
   "source": [
    "# Avaliando a acurácia\n",
    "avaliador = MulticlassClassificationEvaluator(predictionCol = \"prediction\", labelCol = \"label\", metricName = \"accuracy\")\n",
    "avaliador.evaluate(previsoes)  "
   ]
  },
  {
   "cell_type": "code",
   "execution_count": 36,
   "metadata": {},
   "outputs": [
    {
     "name": "stdout",
     "output_type": "stream",
     "text": [
      "+-----+----------+-----+\n",
      "|label|prediction|count|\n",
      "+-----+----------+-----+\n",
      "|  1.0|       1.0|   15|\n",
      "|  0.0|       1.0|    3|\n",
      "|  2.0|       2.0|   10|\n",
      "|  1.0|       0.0|    1|\n",
      "|  0.0|       0.0|   12|\n",
      "+-----+----------+-----+\n",
      "\n"
     ]
    }
   ],
   "source": [
    "# Resumindo as previsões - Confusion Matrix\n",
    "previsoes.groupBy(\"label\",\"prediction\").count().show()"
   ]
  }
 ],
 "metadata": {
  "kernelspec": {
   "display_name": "Python 3",
   "language": "python",
   "name": "python3"
  },
  "language_info": {
   "codemirror_mode": {
    "name": "ipython",
    "version": 3
   },
   "file_extension": ".py",
   "mimetype": "text/x-python",
   "name": "python",
   "nbconvert_exporter": "python",
   "pygments_lexer": "ipython3",
   "version": "3.7.3"
  }
 },
 "nbformat": 4,
 "nbformat_minor": 2
}
